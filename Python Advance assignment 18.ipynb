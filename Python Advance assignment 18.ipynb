{
 "cells": [
  {
   "cell_type": "raw",
   "id": "1be24ecf",
   "metadata": {},
   "source": [
    "Q1. Describe the differences between text and binary files in a single paragraph."
   ]
  },
  {
   "cell_type": "raw",
   "id": "de8a89fc",
   "metadata": {},
   "source": [
    "ans: Binary file contains the data in the form of 0 and 1 (series of binary value) and text files contains the data in the form of stream of charcters. In general binary files are identified as executable files. But binary files are not in readable form as like text file."
   ]
  },
  {
   "cell_type": "code",
   "execution_count": null,
   "id": "253af1fb",
   "metadata": {},
   "outputs": [],
   "source": []
  },
  {
   "cell_type": "code",
   "execution_count": null,
   "id": "e48ac388",
   "metadata": {},
   "outputs": [],
   "source": []
  },
  {
   "cell_type": "raw",
   "id": "f3a76598",
   "metadata": {},
   "source": [
    "Q2. What are some scenarios where using text files will be the better option? When would you like to\n",
    "use binary files instead of text files?"
   ]
  },
  {
   "cell_type": "raw",
   "id": "4413cdb4",
   "metadata": {},
   "source": [
    "ans: text files are commonly used for storage of information. They aviod some of the problems encounterd with other file formats, such as endianness,padding bytes, or differnce in the number of bytes in a machne word.\n",
    "\n",
    "Binary files are used to store data more compactly. In the text file,a special character whoes ASCII value in 26 inserted after the last charcter to mark the end of file. In the binary file no such charcter is prsent. Files keep track of the end of the file from the number of charcters present."
   ]
  },
  {
   "cell_type": "code",
   "execution_count": null,
   "id": "7720f457",
   "metadata": {},
   "outputs": [],
   "source": []
  },
  {
   "cell_type": "code",
   "execution_count": null,
   "id": "85c97cb6",
   "metadata": {},
   "outputs": [],
   "source": []
  },
  {
   "cell_type": "raw",
   "id": "61802ec9",
   "metadata": {},
   "source": [
    "Q3. What are some of the issues with using binary operations to read and write a Python integer\n",
    "directly to disc?"
   ]
  },
  {
   "cell_type": "raw",
   "id": "cb471561",
   "metadata": {},
   "source": [
    "ans: its acually easy to read a write a binary file with rb and wb mode alternatively we can use open() and close()can be called explicitly. However, this method requires us to perform error handling oursel, that is, ensure that the file is always closed, even if there is an error during writing. so, using the \"with\" statement is better in this regard as it will automatically close the file when the block ends."
   ]
  },
  {
   "cell_type": "code",
   "execution_count": null,
   "id": "959b1508",
   "metadata": {},
   "outputs": [],
   "source": []
  },
  {
   "cell_type": "code",
   "execution_count": null,
   "id": "8227b298",
   "metadata": {},
   "outputs": [],
   "source": []
  },
  {
   "cell_type": "raw",
   "id": "e291a445",
   "metadata": {},
   "source": [
    "Q4. Describe a benefit of using the with keyword instead of explicitly opening a file."
   ]
  },
  {
   "cell_type": "raw",
   "id": "5b74c3be",
   "metadata": {},
   "source": [
    "ans: The with statement itself ensures proper acquisition and relase of resources. An exception during the file."
   ]
  },
  {
   "cell_type": "code",
   "execution_count": null,
   "id": "291bb030",
   "metadata": {},
   "outputs": [],
   "source": []
  },
  {
   "cell_type": "code",
   "execution_count": null,
   "id": "e49f0bfc",
   "metadata": {},
   "outputs": [],
   "source": []
  },
  {
   "cell_type": "raw",
   "id": "38ef9336",
   "metadata": {},
   "source": [
    "Q5. Does Python have the trailing newline while reading a line of text? Does Python append a\n",
    "newline when you write a line of text?"
   ]
  },
  {
   "cell_type": "raw",
   "id": "4aff01b8",
   "metadata": {},
   "source": [
    "ans: Python readline() is a file method that helps to read one complete line from the given file. it has a tralling newline(\"\\n\") at the end of the string returned. for the second part python uses a backslash escape,\\n, which python converts to a newline charcter in string literls. it just  concatenates your string, name and neline charcter  into a bigger string, which gets writeen to the file."
   ]
  },
  {
   "cell_type": "code",
   "execution_count": null,
   "id": "2a87fb2b",
   "metadata": {},
   "outputs": [],
   "source": []
  },
  {
   "cell_type": "code",
   "execution_count": null,
   "id": "4bbdb8ab",
   "metadata": {},
   "outputs": [],
   "source": []
  },
  {
   "cell_type": "raw",
   "id": "f9bae1dd",
   "metadata": {},
   "source": [
    "Q6. What file operations enable for random-access operation?"
   ]
  },
  {
   "cell_type": "raw",
   "id": "3ccdd4c1",
   "metadata": {},
   "source": [
    "ans: we can set offsets in file but if we want to access data in a random fashion, then Python given us seek() and tell() functions to do so."
   ]
  },
  {
   "cell_type": "code",
   "execution_count": null,
   "id": "4905bcc8",
   "metadata": {},
   "outputs": [],
   "source": []
  },
  {
   "cell_type": "code",
   "execution_count": null,
   "id": "774c3741",
   "metadata": {},
   "outputs": [],
   "source": []
  },
  {
   "cell_type": "raw",
   "id": "b34a22c2",
   "metadata": {},
   "source": [
    "Q7. When do you think you'll use the struct package the most?"
   ]
  },
  {
   "cell_type": "raw",
   "id": "ed6753ea",
   "metadata": {},
   "source": [
    "ans: The struct module in Python is used to convert native Python data type such as strings and numbes into a string of bytes and vice versa. what this means is that users can parse binary files of data stored in c structs in Python.\n",
    "\n",
    "It is used mostly for handling binary data stored in files or from network connections, among other sources."
   ]
  },
  {
   "cell_type": "code",
   "execution_count": null,
   "id": "6692efab",
   "metadata": {},
   "outputs": [],
   "source": []
  },
  {
   "cell_type": "code",
   "execution_count": null,
   "id": "e773214f",
   "metadata": {},
   "outputs": [],
   "source": []
  },
  {
   "cell_type": "raw",
   "id": "0b919a7d",
   "metadata": {},
   "source": [
    "Q8. When is pickling the best option?"
   ]
  },
  {
   "cell_type": "raw",
   "id": "f3c2fc0f",
   "metadata": {},
   "source": [
    "ans: The Python pickle module is a better choice for all the remanining use cases. if we dont need a human readable format or a standard interoperable format, or if we need to serialize custom objects, then go with pickle."
   ]
  },
  {
   "cell_type": "code",
   "execution_count": null,
   "id": "e3296c94",
   "metadata": {},
   "outputs": [],
   "source": []
  },
  {
   "cell_type": "code",
   "execution_count": null,
   "id": "e946a962",
   "metadata": {},
   "outputs": [],
   "source": []
  },
  {
   "cell_type": "raw",
   "id": "279a0c75",
   "metadata": {},
   "source": [
    "Q9. When will it be best to use the shelve package?"
   ]
  },
  {
   "cell_type": "raw",
   "id": "945b51b2",
   "metadata": {},
   "source": [
    "ans: The shevle module implements persistent storage for arbitary python objects which can be pickled, using a dictioneary- like API. The shevle module can be used as a simple persistent storage option for pthon objects when a relational database is overkill."
   ]
  },
  {
   "cell_type": "code",
   "execution_count": null,
   "id": "10f1700a",
   "metadata": {},
   "outputs": [],
   "source": []
  },
  {
   "cell_type": "code",
   "execution_count": null,
   "id": "39970fb8",
   "metadata": {},
   "outputs": [],
   "source": []
  },
  {
   "cell_type": "raw",
   "id": "ddbba572",
   "metadata": {},
   "source": [
    "Q10. What is a special restriction when using the shelve package, as opposed to using other data\n",
    "dictionaries?"
   ]
  },
  {
   "cell_type": "raw",
   "id": "c290a83e",
   "metadata": {},
   "source": [
    "ans: The shelf dictionary has certain restrictions.only string data type can be used as key in this special dictionary object,wheras any"
   ]
  },
  {
   "cell_type": "code",
   "execution_count": null,
   "id": "43d3a91f",
   "metadata": {},
   "outputs": [],
   "source": []
  },
  {
   "cell_type": "code",
   "execution_count": null,
   "id": "a843ae0c",
   "metadata": {},
   "outputs": [],
   "source": []
  },
  {
   "cell_type": "code",
   "execution_count": null,
   "id": "8d2c855a",
   "metadata": {},
   "outputs": [],
   "source": []
  }
 ],
 "metadata": {
  "kernelspec": {
   "display_name": "Python 3",
   "language": "python",
   "name": "python3"
  },
  "language_info": {
   "codemirror_mode": {
    "name": "ipython",
    "version": 3
   },
   "file_extension": ".py",
   "mimetype": "text/x-python",
   "name": "python",
   "nbconvert_exporter": "python",
   "pygments_lexer": "ipython3",
   "version": "3.8.8"
  }
 },
 "nbformat": 4,
 "nbformat_minor": 5
}
